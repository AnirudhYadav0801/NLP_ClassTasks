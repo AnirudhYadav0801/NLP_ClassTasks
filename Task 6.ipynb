{
 "cells": [
  {
   "cell_type": "code",
   "execution_count": 1,
   "id": "6976638f",
   "metadata": {},
   "outputs": [],
   "source": [
    "import nltk"
   ]
  },
  {
   "cell_type": "code",
   "execution_count": 2,
   "id": "a0e43d59",
   "metadata": {},
   "outputs": [],
   "source": [
    "sentence = [(\"the\", \"DT\"), (\"little\", \"JJ\"), (\"cat\",\"NN\")]\n",
    "sentence2 = [(\"a\", \"DT\"), (\"lonely\", \"JJ\"), (\"wanderer\", \"NN\"), (\".\", \"PT\")]\n",
    "\n",
    "grammar = \"NP: {<DT>?<JJ>*<NN>}\"\n",
    "grammar2 = \"NP: {<DT>?<JJ>*<NN.?>}\"\n",
    "#Productions from CFG for NP and VP"
   ]
  },
  {
   "cell_type": "code",
   "execution_count": 3,
   "id": "d52f1ecd",
   "metadata": {},
   "outputs": [],
   "source": [
    "cp = nltk.RegexpParser(grammar)\n",
    "cp2 = nltk.RegexpParser(grammar2)"
   ]
  },
  {
   "cell_type": "code",
   "execution_count": 4,
   "id": "4107ddda",
   "metadata": {},
   "outputs": [
    {
     "name": "stdout",
     "output_type": "stream",
     "text": [
      "(S (NP the/DT little/JJ cat/NN))\n",
      "(S (NP a/DT lonely/JJ wanderer/NN) ./PT)\n"
     ]
    }
   ],
   "source": [
    "result = cp.parse(sentence)\n",
    "result2 = cp.parse(sentence2)\n",
    "print(result)\n",
    "print(result2)"
   ]
  }
 ],
 "metadata": {
  "kernelspec": {
   "display_name": "Python 3 (ipykernel)",
   "language": "python",
   "name": "python3"
  },
  "language_info": {
   "codemirror_mode": {
    "name": "ipython",
    "version": 3
   },
   "file_extension": ".py",
   "mimetype": "text/x-python",
   "name": "python",
   "nbconvert_exporter": "python",
   "pygments_lexer": "ipython3",
   "version": "3.9.13"
  }
 },
 "nbformat": 4,
 "nbformat_minor": 5
}
