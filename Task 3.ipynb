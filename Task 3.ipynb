{
 "cells": [
  {
   "cell_type": "code",
   "execution_count": 1,
   "id": "e91907d6",
   "metadata": {},
   "outputs": [],
   "source": [
    "import nltk\n",
    "from nltk.tokenize import TweetTokenizer"
   ]
  },
  {
   "cell_type": "code",
   "execution_count": 4,
   "id": "af362602",
   "metadata": {},
   "outputs": [],
   "source": [
    "text = 'If the Cleveland Cavaliers win the 2018 NBA finals I’ll buy everyone who retweet’s this a jersey :D #NBA'"
   ]
  },
  {
   "cell_type": "code",
   "execution_count": 5,
   "id": "8ece7461",
   "metadata": {},
   "outputs": [
    {
     "data": {
      "text/plain": [
       "['If',\n",
       " 'the',\n",
       " 'Cleveland',\n",
       " 'Cavaliers',\n",
       " 'win',\n",
       " 'the',\n",
       " '2018',\n",
       " 'NBA',\n",
       " 'finals',\n",
       " 'I',\n",
       " '’',\n",
       " 'll',\n",
       " 'buy',\n",
       " 'everyone',\n",
       " 'who',\n",
       " 'retweet',\n",
       " '’',\n",
       " 's',\n",
       " 'this',\n",
       " 'a',\n",
       " 'jersey',\n",
       " ':D',\n",
       " '#NBA']"
      ]
     },
     "execution_count": 5,
     "metadata": {},
     "output_type": "execute_result"
    }
   ],
   "source": [
    "twtkn = TweetTokenizer()\n",
    "twtkn.tokenize(text)"
   ]
  },
  {
   "cell_type": "code",
   "execution_count": null,
   "id": "b6e7584f",
   "metadata": {},
   "outputs": [],
   "source": []
  }
 ],
 "metadata": {
  "kernelspec": {
   "display_name": "Python 3 (ipykernel)",
   "language": "python",
   "name": "python3"
  },
  "language_info": {
   "codemirror_mode": {
    "name": "ipython",
    "version": 3
   },
   "file_extension": ".py",
   "mimetype": "text/x-python",
   "name": "python",
   "nbconvert_exporter": "python",
   "pygments_lexer": "ipython3",
   "version": "3.9.13"
  }
 },
 "nbformat": 4,
 "nbformat_minor": 5
}
