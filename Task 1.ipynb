{
 "cells": [
  {
   "cell_type": "code",
   "execution_count": 2,
   "id": "0fb1ad2c",
   "metadata": {},
   "outputs": [
    {
     "name": "stdout",
     "output_type": "stream",
     "text": [
      "showing info https://raw.githubusercontent.com/nltk/nltk_data/gh-pages/index.xml\n"
     ]
    },
    {
     "data": {
      "text/plain": [
       "True"
      ]
     },
     "execution_count": 2,
     "metadata": {},
     "output_type": "execute_result"
    }
   ],
   "source": [
    "import nltk\n",
    "nltk.download()"
   ]
  },
  {
   "cell_type": "code",
   "execution_count": 4,
   "id": "731c0cf4",
   "metadata": {},
   "outputs": [
    {
     "name": "stdout",
     "output_type": "stream",
     "text": [
      "showing info https://raw.githubusercontent.com/nltk/nltk_data/gh-pages/index.xml\n"
     ]
    },
    {
     "data": {
      "text/plain": [
       "True"
      ]
     },
     "execution_count": 4,
     "metadata": {},
     "output_type": "execute_result"
    }
   ],
   "source": [
    "nltk.download()"
   ]
  },
  {
   "cell_type": "code",
   "execution_count": 8,
   "id": "bfb6ad28",
   "metadata": {},
   "outputs": [],
   "source": [
    "from nltk.book import *\n",
    "from nltk.corpus import brown"
   ]
  },
  {
   "cell_type": "code",
   "execution_count": 13,
   "id": "301a5e26",
   "metadata": {},
   "outputs": [
    {
     "data": {
      "text/plain": [
       "['be',\n",
       " 'to',\n",
       " 'sell',\n",
       " 'out',\n",
       " 'to',\n",
       " 'Al',\n",
       " 'Budd',\n",
       " 'and',\n",
       " 'leave',\n",
       " 'the',\n",
       " 'country',\n",
       " ',',\n",
       " 'but',\n",
       " 'there',\n",
       " 'was']"
      ]
     },
     "execution_count": 13,
     "metadata": {},
     "output_type": "execute_result"
    }
   ],
   "source": [
    "brown.categories()\n",
    "brown.words(categories = 'adventure')[:10]"
   ]
  },
  {
   "cell_type": "code",
   "execution_count": 15,
   "id": "79d852d6",
   "metadata": {},
   "outputs": [],
   "source": [
    "from nltk.corpus import inaugural"
   ]
  },
  {
   "cell_type": "code",
   "execution_count": 16,
   "id": "d2e82987",
   "metadata": {},
   "outputs": [
    {
     "data": {
      "text/plain": [
       "['1789-Washington.txt',\n",
       " '1793-Washington.txt',\n",
       " '1797-Adams.txt',\n",
       " '1801-Jefferson.txt',\n",
       " '1805-Jefferson.txt',\n",
       " '1809-Madison.txt',\n",
       " '1813-Madison.txt',\n",
       " '1817-Monroe.txt',\n",
       " '1821-Monroe.txt',\n",
       " '1825-Adams.txt',\n",
       " '1829-Jackson.txt',\n",
       " '1833-Jackson.txt',\n",
       " '1837-VanBuren.txt',\n",
       " '1841-Harrison.txt',\n",
       " '1845-Polk.txt',\n",
       " '1849-Taylor.txt',\n",
       " '1853-Pierce.txt',\n",
       " '1857-Buchanan.txt',\n",
       " '1861-Lincoln.txt',\n",
       " '1865-Lincoln.txt',\n",
       " '1869-Grant.txt',\n",
       " '1873-Grant.txt',\n",
       " '1877-Hayes.txt',\n",
       " '1881-Garfield.txt',\n",
       " '1885-Cleveland.txt',\n",
       " '1889-Harrison.txt',\n",
       " '1893-Cleveland.txt',\n",
       " '1897-McKinley.txt',\n",
       " '1901-McKinley.txt',\n",
       " '1905-Roosevelt.txt',\n",
       " '1909-Taft.txt',\n",
       " '1913-Wilson.txt',\n",
       " '1917-Wilson.txt',\n",
       " '1921-Harding.txt',\n",
       " '1925-Coolidge.txt',\n",
       " '1929-Hoover.txt',\n",
       " '1933-Roosevelt.txt',\n",
       " '1937-Roosevelt.txt',\n",
       " '1941-Roosevelt.txt',\n",
       " '1945-Roosevelt.txt',\n",
       " '1949-Truman.txt',\n",
       " '1953-Eisenhower.txt',\n",
       " '1957-Eisenhower.txt',\n",
       " '1961-Kennedy.txt',\n",
       " '1965-Johnson.txt',\n",
       " '1969-Nixon.txt',\n",
       " '1973-Nixon.txt',\n",
       " '1977-Carter.txt',\n",
       " '1981-Reagan.txt',\n",
       " '1985-Reagan.txt',\n",
       " '1989-Bush.txt',\n",
       " '1993-Clinton.txt',\n",
       " '1997-Clinton.txt',\n",
       " '2001-Bush.txt',\n",
       " '2005-Bush.txt',\n",
       " '2009-Obama.txt',\n",
       " '2013-Obama.txt',\n",
       " '2017-Trump.txt',\n",
       " '2021-Biden.txt']"
      ]
     },
     "execution_count": 16,
     "metadata": {},
     "output_type": "execute_result"
    }
   ],
   "source": [
    "inaugural.fileids()"
   ]
  },
  {
   "cell_type": "code",
   "execution_count": 19,
   "id": "22700561",
   "metadata": {},
   "outputs": [
    {
     "data": {
      "text/plain": [
       "['On',\n",
       " 'each',\n",
       " 'national',\n",
       " 'day',\n",
       " 'of',\n",
       " 'inauguration',\n",
       " 'since',\n",
       " '1789',\n",
       " ',',\n",
       " 'the',\n",
       " 'people',\n",
       " 'have',\n",
       " 'renewed',\n",
       " 'their',\n",
       " 'sense',\n",
       " 'of',\n",
       " 'dedication',\n",
       " 'to',\n",
       " 'the',\n",
       " 'United',\n",
       " 'States',\n",
       " '.',\n",
       " 'In',\n",
       " 'Washington',\n",
       " \"'\",\n",
       " 's',\n",
       " 'day',\n",
       " 'the',\n",
       " 'task',\n",
       " 'of',\n",
       " 'the',\n",
       " 'people',\n",
       " 'was',\n",
       " 'to',\n",
       " 'create',\n",
       " 'and',\n",
       " 'weld',\n",
       " 'together',\n",
       " 'a',\n",
       " 'nation',\n",
       " '.',\n",
       " 'In',\n",
       " 'Lincoln',\n",
       " \"'\",\n",
       " 's',\n",
       " 'day',\n",
       " 'the',\n",
       " 'task',\n",
       " 'of',\n",
       " 'the',\n",
       " 'people',\n",
       " 'was',\n",
       " 'to',\n",
       " 'preserve',\n",
       " 'that',\n",
       " 'Nation',\n",
       " 'from',\n",
       " 'disruption',\n",
       " 'from',\n",
       " 'within',\n",
       " '.',\n",
       " 'In',\n",
       " 'this',\n",
       " 'day',\n",
       " 'the',\n",
       " 'task',\n",
       " 'of',\n",
       " 'the',\n",
       " 'people',\n",
       " 'is',\n",
       " 'to',\n",
       " 'save',\n",
       " 'that',\n",
       " 'Nation',\n",
       " 'and',\n",
       " 'its',\n",
       " 'institutions',\n",
       " 'from',\n",
       " 'disruption',\n",
       " 'from',\n",
       " 'without',\n",
       " '.',\n",
       " 'To',\n",
       " 'us',\n",
       " 'there',\n",
       " 'has',\n",
       " 'come',\n",
       " 'a',\n",
       " 'time',\n",
       " ',',\n",
       " 'in',\n",
       " 'the',\n",
       " 'midst',\n",
       " 'of',\n",
       " 'swift',\n",
       " 'happenings',\n",
       " ',',\n",
       " 'to',\n",
       " 'pause',\n",
       " 'for']"
      ]
     },
     "execution_count": 19,
     "metadata": {},
     "output_type": "execute_result"
    }
   ],
   "source": [
    "inaugural.words(fileids = '1941-Roosevelt.txt')[:100]"
   ]
  },
  {
   "cell_type": "code",
   "execution_count": 18,
   "id": "93101083",
   "metadata": {},
   "outputs": [
    {
     "data": {
      "text/plain": [
       "['My',\n",
       " 'fellow',\n",
       " 'citizens',\n",
       " ':',\n",
       " 'I',\n",
       " 'stand',\n",
       " 'here',\n",
       " 'today',\n",
       " 'humbled',\n",
       " 'by']"
      ]
     },
     "execution_count": 18,
     "metadata": {},
     "output_type": "execute_result"
    }
   ],
   "source": [
    "inaugural.words(fileids = '2009-Obama.txt')[:10]"
   ]
  },
  {
   "cell_type": "code",
   "execution_count": null,
   "id": "5bdcabbd",
   "metadata": {},
   "outputs": [],
   "source": []
  }
 ],
 "metadata": {
  "kernelspec": {
   "display_name": "Python 3 (ipykernel)",
   "language": "python",
   "name": "python3"
  },
  "language_info": {
   "codemirror_mode": {
    "name": "ipython",
    "version": 3
   },
   "file_extension": ".py",
   "mimetype": "text/x-python",
   "name": "python",
   "nbconvert_exporter": "python",
   "pygments_lexer": "ipython3",
   "version": "3.9.13"
  }
 },
 "nbformat": 4,
 "nbformat_minor": 5
}
